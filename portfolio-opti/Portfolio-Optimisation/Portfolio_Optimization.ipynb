{
  "cells": [
    {
      "cell_type": "markdown",
      "metadata": {
        "colab_type": "text",
        "id": "view-in-github"
      },
      "source": [
        "<a href=\"https://colab.research.google.com/github/JasCapasci/Portfolio-Optimisation/blob/main/Portfolio_Optimization.ipynb\" target=\"_parent\"><img src=\"https://colab.research.google.com/assets/colab-badge.svg\" alt=\"Open In Colab\"/></a>"
      ]
    },
    {
      "cell_type": "markdown",
      "metadata": {
        "id": "3TCnJjvH4VZy"
      },
      "source": [
        "# **Motive behind the Project**"
      ]
    },
    {
      "cell_type": "markdown",
      "metadata": {
        "id": "mCVzK7iv4lho"
      },
      "source": [
        "The project focused on generating the Minimum Variance Portfolio on diversely selected Indian stocks. It gave me a deeper idea on the concepts I had learnt from the book like CAPM, Sharpe ratio etc. It's one of the projects with which I started exploring in the field of Quantitative Finance and this really gave me a deeper insight of the practical work that happens at the Industrial level."
      ]
    },
    {
      "cell_type": "markdown",
      "metadata": {
        "id": "US5PvgU34l-8"
      },
      "source": [
        "# **Install the Packages**"
      ]
    },
    {
      "cell_type": "code",
      "execution_count": 2,
      "metadata": {
        "colab": {
          "base_uri": "https://localhost:8080/"
        },
        "id": "xJlzkFPsvINo",
        "outputId": "521e3c74-92ed-4dff-8b63-24a7e5121fe4"
      },
      "outputs": [
        {
          "name": "stdout",
          "output_type": "stream",
          "text": [
            "Requirement already satisfied: yfinance in c:\\users\\dhruv\\appdata\\local\\programs\\python\\python311\\lib\\site-packages (0.2.40)\n",
            "Requirement already satisfied: pandas>=1.3.0 in c:\\users\\dhruv\\appdata\\local\\programs\\python\\python311\\lib\\site-packages (from yfinance) (2.2.2)\n",
            "Requirement already satisfied: numpy>=1.16.5 in c:\\users\\dhruv\\appdata\\local\\programs\\python\\python311\\lib\\site-packages (from yfinance) (1.25.1)\n",
            "Requirement already satisfied: requests>=2.31 in c:\\users\\dhruv\\appdata\\local\\programs\\python\\python311\\lib\\site-packages (from yfinance) (2.32.3)\n",
            "Requirement already satisfied: multitasking>=0.0.7 in c:\\users\\dhruv\\appdata\\local\\programs\\python\\python311\\lib\\site-packages (from yfinance) (0.0.11)\n",
            "Requirement already satisfied: lxml>=4.9.1 in c:\\users\\dhruv\\appdata\\local\\programs\\python\\python311\\lib\\site-packages (from yfinance) (5.2.2)\n",
            "Requirement already satisfied: platformdirs>=2.0.0 in c:\\users\\dhruv\\appdata\\local\\programs\\python\\python311\\lib\\site-packages (from yfinance) (4.2.2)\n",
            "Requirement already satisfied: pytz>=2022.5 in c:\\users\\dhruv\\appdata\\local\\programs\\python\\python311\\lib\\site-packages (from yfinance) (2024.1)\n",
            "Requirement already satisfied: frozendict>=2.3.4 in c:\\users\\dhruv\\appdata\\local\\programs\\python\\python311\\lib\\site-packages (from yfinance) (2.4.4)\n",
            "Requirement already satisfied: peewee>=3.16.2 in c:\\users\\dhruv\\appdata\\local\\programs\\python\\python311\\lib\\site-packages (from yfinance) (3.17.5)\n",
            "Requirement already satisfied: beautifulsoup4>=4.11.1 in c:\\users\\dhruv\\appdata\\local\\programs\\python\\python311\\lib\\site-packages (from yfinance) (4.12.3)\n",
            "Requirement already satisfied: html5lib>=1.1 in c:\\users\\dhruv\\appdata\\local\\programs\\python\\python311\\lib\\site-packages (from yfinance) (1.1)\n",
            "Requirement already satisfied: soupsieve>1.2 in c:\\users\\dhruv\\appdata\\local\\programs\\python\\python311\\lib\\site-packages (from beautifulsoup4>=4.11.1->yfinance) (2.5)\n",
            "Requirement already satisfied: six>=1.9 in c:\\users\\dhruv\\appdata\\local\\programs\\python\\python311\\lib\\site-packages (from html5lib>=1.1->yfinance) (1.16.0)\n",
            "Requirement already satisfied: webencodings in c:\\users\\dhruv\\appdata\\local\\programs\\python\\python311\\lib\\site-packages (from html5lib>=1.1->yfinance) (0.5.1)\n",
            "Requirement already satisfied: python-dateutil>=2.8.2 in c:\\users\\dhruv\\appdata\\local\\programs\\python\\python311\\lib\\site-packages (from pandas>=1.3.0->yfinance) (2.9.0.post0)\n",
            "Requirement already satisfied: tzdata>=2022.7 in c:\\users\\dhruv\\appdata\\local\\programs\\python\\python311\\lib\\site-packages (from pandas>=1.3.0->yfinance) (2024.1)\n",
            "Requirement already satisfied: charset-normalizer<4,>=2 in c:\\users\\dhruv\\appdata\\local\\programs\\python\\python311\\lib\\site-packages (from requests>=2.31->yfinance) (3.3.2)\n",
            "Requirement already satisfied: idna<4,>=2.5 in c:\\users\\dhruv\\appdata\\local\\programs\\python\\python311\\lib\\site-packages (from requests>=2.31->yfinance) (3.7)\n",
            "Requirement already satisfied: urllib3<3,>=1.21.1 in c:\\users\\dhruv\\appdata\\local\\programs\\python\\python311\\lib\\site-packages (from requests>=2.31->yfinance) (2.2.2)\n",
            "Requirement already satisfied: certifi>=2017.4.17 in c:\\users\\dhruv\\appdata\\local\\programs\\python\\python311\\lib\\site-packages (from requests>=2.31->yfinance) (2024.6.2)\n",
            "Note: you may need to restart the kernel to use updated packages.\n"
          ]
        },
        {
          "name": "stderr",
          "output_type": "stream",
          "text": [
            "\n",
            "[notice] A new release of pip is available: 24.0 -> 24.1.1\n",
            "[notice] To update, run: python.exe -m pip install --upgrade pip\n"
          ]
        }
      ],
      "source": [
        "%pip install yfinance"
      ]
    },
    {
      "cell_type": "markdown",
      "metadata": {
        "id": "9ATmgWdx4zG-"
      },
      "source": [
        "# **Import the Libraries**"
      ]
    },
    {
      "cell_type": "code",
      "execution_count": 3,
      "metadata": {
        "id": "IEyao4vPvIUL"
      },
      "outputs": [],
      "source": [
        "import pandas as pd\n",
        "import numpy as np\n",
        "import yfinance as yf\n",
        "import matplotlib.pyplot as plt\n",
        "\n",
        "%matplotlib inline"
      ]
    },
    {
      "cell_type": "markdown",
      "metadata": {
        "id": "i0sXwJ1K5gFP"
      },
      "source": [
        "# **Choosing of the Stocks**"
      ]
    },
    {
      "cell_type": "markdown",
      "metadata": {
        "id": "hfktfa7b5gI_"
      },
      "source": [
        "So basically what I did is I selected 5 stocks on total from 5 different sectors. The reason behind this is it increases the diversification and decreases the correlation between the individual stocks as they arent from the same sector."
      ]
    },
    {
      "cell_type": "markdown",
      "metadata": {
        "id": "Iy2EfiRG44C9"
      },
      "source": [
        "# **Downloading of the Stocks**"
      ]
    },
    {
      "cell_type": "code",
      "execution_count": 24,
      "metadata": {
        "id": "Ybsd2WbGvIav"
      },
      "outputs": [],
      "source": [
        "stocks=['ASHOKLEY.NS','MARUTI.NS','BAJFINANCE.NS','BRITANNIA.NS','KOTAKBANK.NS']"
      ]
    },
    {
      "cell_type": "code",
      "execution_count": 25,
      "metadata": {
        "colab": {
          "base_uri": "https://localhost:8080/",
          "height": 455
        },
        "id": "6-6gXj47vIhC",
        "outputId": "e543ec9b-2acf-4268-89f5-6b9b27936346"
      },
      "outputs": [
        {
          "data": {
            "text/html": [
              "<div>\n",
              "<style scoped>\n",
              "    .dataframe tbody tr th:only-of-type {\n",
              "        vertical-align: middle;\n",
              "    }\n",
              "\n",
              "    .dataframe tbody tr th {\n",
              "        vertical-align: top;\n",
              "    }\n",
              "\n",
              "    .dataframe thead th {\n",
              "        text-align: right;\n",
              "    }\n",
              "</style>\n",
              "<table border=\"1\" class=\"dataframe\">\n",
              "  <thead>\n",
              "    <tr style=\"text-align: right;\">\n",
              "      <th>Ticker</th>\n",
              "      <th>ASHOKLEY.NS</th>\n",
              "      <th>BAJFINANCE.NS</th>\n",
              "      <th>BRITANNIA.NS</th>\n",
              "      <th>KOTAKBANK.NS</th>\n",
              "      <th>MARUTI.NS</th>\n",
              "    </tr>\n",
              "    <tr>\n",
              "      <th>Date</th>\n",
              "      <th></th>\n",
              "      <th></th>\n",
              "      <th></th>\n",
              "      <th></th>\n",
              "      <th></th>\n",
              "    </tr>\n",
              "  </thead>\n",
              "  <tbody>\n",
              "    <tr>\n",
              "      <th>2017-01-02</th>\n",
              "      <td>65.380356</td>\n",
              "      <td>850.404541</td>\n",
              "      <td>1283.016602</td>\n",
              "      <td>712.233826</td>\n",
              "      <td>5082.766602</td>\n",
              "    </tr>\n",
              "    <tr>\n",
              "      <th>2017-01-03</th>\n",
              "      <td>65.420715</td>\n",
              "      <td>864.039551</td>\n",
              "      <td>1276.704712</td>\n",
              "      <td>709.194763</td>\n",
              "      <td>5122.192871</td>\n",
              "    </tr>\n",
              "    <tr>\n",
              "      <th>2017-01-04</th>\n",
              "      <td>67.680779</td>\n",
              "      <td>852.212769</td>\n",
              "      <td>1267.881226</td>\n",
              "      <td>693.102722</td>\n",
              "      <td>5116.381836</td>\n",
              "    </tr>\n",
              "    <tr>\n",
              "      <th>2017-01-05</th>\n",
              "      <td>67.761490</td>\n",
              "      <td>879.433960</td>\n",
              "      <td>1273.837646</td>\n",
              "      <td>696.440735</td>\n",
              "      <td>5239.871094</td>\n",
              "    </tr>\n",
              "    <tr>\n",
              "      <th>2017-01-06</th>\n",
              "      <td>68.851166</td>\n",
              "      <td>858.614929</td>\n",
              "      <td>1286.794678</td>\n",
              "      <td>714.276489</td>\n",
              "      <td>5221.831055</td>\n",
              "    </tr>\n",
              "    <tr>\n",
              "      <th>...</th>\n",
              "      <td>...</td>\n",
              "      <td>...</td>\n",
              "      <td>...</td>\n",
              "      <td>...</td>\n",
              "      <td>...</td>\n",
              "    </tr>\n",
              "    <tr>\n",
              "      <th>2018-12-21</th>\n",
              "      <td>89.593643</td>\n",
              "      <td>2543.640869</td>\n",
              "      <td>2800.164795</td>\n",
              "      <td>1224.184326</td>\n",
              "      <td>7204.026367</td>\n",
              "    </tr>\n",
              "    <tr>\n",
              "      <th>2018-12-24</th>\n",
              "      <td>88.955811</td>\n",
              "      <td>2517.774902</td>\n",
              "      <td>2782.886719</td>\n",
              "      <td>1235.456665</td>\n",
              "      <td>7197.191406</td>\n",
              "    </tr>\n",
              "    <tr>\n",
              "      <th>2018-12-26</th>\n",
              "      <td>88.360504</td>\n",
              "      <td>2520.229004</td>\n",
              "      <td>2772.475830</td>\n",
              "      <td>1245.083008</td>\n",
              "      <td>7235.379883</td>\n",
              "    </tr>\n",
              "    <tr>\n",
              "      <th>2018-12-27</th>\n",
              "      <td>87.595108</td>\n",
              "      <td>2539.616211</td>\n",
              "      <td>2760.313477</td>\n",
              "      <td>1237.202393</td>\n",
              "      <td>7169.278809</td>\n",
              "    </tr>\n",
              "    <tr>\n",
              "      <th>2018-12-28</th>\n",
              "      <td>87.382500</td>\n",
              "      <td>2586.390869</td>\n",
              "      <td>2781.046875</td>\n",
              "      <td>1238.299805</td>\n",
              "      <td>7174.631836</td>\n",
              "    </tr>\n",
              "  </tbody>\n",
              "</table>\n",
              "<p>493 rows × 5 columns</p>\n",
              "</div>"
            ],
            "text/plain": [
              "Ticker      ASHOKLEY.NS  BAJFINANCE.NS  BRITANNIA.NS  KOTAKBANK.NS  \\\n",
              "Date                                                                 \n",
              "2017-01-02    65.380356     850.404541   1283.016602    712.233826   \n",
              "2017-01-03    65.420715     864.039551   1276.704712    709.194763   \n",
              "2017-01-04    67.680779     852.212769   1267.881226    693.102722   \n",
              "2017-01-05    67.761490     879.433960   1273.837646    696.440735   \n",
              "2017-01-06    68.851166     858.614929   1286.794678    714.276489   \n",
              "...                 ...            ...           ...           ...   \n",
              "2018-12-21    89.593643    2543.640869   2800.164795   1224.184326   \n",
              "2018-12-24    88.955811    2517.774902   2782.886719   1235.456665   \n",
              "2018-12-26    88.360504    2520.229004   2772.475830   1245.083008   \n",
              "2018-12-27    87.595108    2539.616211   2760.313477   1237.202393   \n",
              "2018-12-28    87.382500    2586.390869   2781.046875   1238.299805   \n",
              "\n",
              "Ticker        MARUTI.NS  \n",
              "Date                     \n",
              "2017-01-02  5082.766602  \n",
              "2017-01-03  5122.192871  \n",
              "2017-01-04  5116.381836  \n",
              "2017-01-05  5239.871094  \n",
              "2017-01-06  5221.831055  \n",
              "...                 ...  \n",
              "2018-12-21  7204.026367  \n",
              "2018-12-24  7197.191406  \n",
              "2018-12-26  7235.379883  \n",
              "2018-12-27  7169.278809  \n",
              "2018-12-28  7174.631836  \n",
              "\n",
              "[493 rows x 5 columns]"
            ]
          },
          "execution_count": 25,
          "metadata": {},
          "output_type": "execute_result"
        }
      ],
      "source": [
        "df=yf.download(stocks,start='2017-01-01',end='2018-12-31',progress=False)['Adj Close']\n",
        "df.sort_index(inplace=True)\n",
        "df"
      ]
    },
    {
      "cell_type": "code",
      "execution_count": 8,
      "metadata": {
        "colab": {
          "base_uri": "https://localhost:8080/",
          "height": 455
        },
        "id": "IE8LRXJnvInS",
        "outputId": "7b12af3c-d905-441a-a007-ced14c4fa773"
      },
      "outputs": [
        {
          "data": {
            "text/html": [
              "<div>\n",
              "<style scoped>\n",
              "    .dataframe tbody tr th:only-of-type {\n",
              "        vertical-align: middle;\n",
              "    }\n",
              "\n",
              "    .dataframe tbody tr th {\n",
              "        vertical-align: top;\n",
              "    }\n",
              "\n",
              "    .dataframe thead th {\n",
              "        text-align: right;\n",
              "    }\n",
              "</style>\n",
              "<table border=\"1\" class=\"dataframe\">\n",
              "  <thead>\n",
              "    <tr style=\"text-align: right;\">\n",
              "      <th>Ticker</th>\n",
              "      <th>ASHOKLEY.NS</th>\n",
              "      <th>BAJFINANCE.NS</th>\n",
              "      <th>BRITANNIA.NS</th>\n",
              "      <th>KOTAKBANK.NS</th>\n",
              "      <th>MARUTI.NS</th>\n",
              "    </tr>\n",
              "    <tr>\n",
              "      <th>Date</th>\n",
              "      <th></th>\n",
              "      <th></th>\n",
              "      <th></th>\n",
              "      <th></th>\n",
              "      <th></th>\n",
              "    </tr>\n",
              "  </thead>\n",
              "  <tbody>\n",
              "    <tr>\n",
              "      <th>2017-01-02</th>\n",
              "      <td>NaN</td>\n",
              "      <td>NaN</td>\n",
              "      <td>NaN</td>\n",
              "      <td>NaN</td>\n",
              "      <td>NaN</td>\n",
              "    </tr>\n",
              "    <tr>\n",
              "      <th>2017-01-03</th>\n",
              "      <td>0.000617</td>\n",
              "      <td>0.016034</td>\n",
              "      <td>-0.004920</td>\n",
              "      <td>-0.004267</td>\n",
              "      <td>0.007757</td>\n",
              "    </tr>\n",
              "    <tr>\n",
              "      <th>2017-01-04</th>\n",
              "      <td>0.034547</td>\n",
              "      <td>-0.013688</td>\n",
              "      <td>-0.006911</td>\n",
              "      <td>-0.022691</td>\n",
              "      <td>-0.001134</td>\n",
              "    </tr>\n",
              "    <tr>\n",
              "      <th>2017-01-05</th>\n",
              "      <td>0.001193</td>\n",
              "      <td>0.031942</td>\n",
              "      <td>0.004698</td>\n",
              "      <td>0.004816</td>\n",
              "      <td>0.024136</td>\n",
              "    </tr>\n",
              "    <tr>\n",
              "      <th>2017-01-06</th>\n",
              "      <td>0.016081</td>\n",
              "      <td>-0.023673</td>\n",
              "      <td>0.010172</td>\n",
              "      <td>0.025610</td>\n",
              "      <td>-0.003443</td>\n",
              "    </tr>\n",
              "    <tr>\n",
              "      <th>...</th>\n",
              "      <td>...</td>\n",
              "      <td>...</td>\n",
              "      <td>...</td>\n",
              "      <td>...</td>\n",
              "      <td>...</td>\n",
              "    </tr>\n",
              "    <tr>\n",
              "      <th>2018-12-21</th>\n",
              "      <td>-0.007536</td>\n",
              "      <td>-0.000058</td>\n",
              "      <td>-0.016100</td>\n",
              "      <td>-0.007361</td>\n",
              "      <td>-0.034680</td>\n",
              "    </tr>\n",
              "    <tr>\n",
              "      <th>2018-12-24</th>\n",
              "      <td>-0.007119</td>\n",
              "      <td>-0.010169</td>\n",
              "      <td>-0.006170</td>\n",
              "      <td>0.009208</td>\n",
              "      <td>-0.000949</td>\n",
              "    </tr>\n",
              "    <tr>\n",
              "      <th>2018-12-26</th>\n",
              "      <td>-0.006692</td>\n",
              "      <td>0.000975</td>\n",
              "      <td>-0.003741</td>\n",
              "      <td>0.007792</td>\n",
              "      <td>0.005306</td>\n",
              "    </tr>\n",
              "    <tr>\n",
              "      <th>2018-12-27</th>\n",
              "      <td>-0.008662</td>\n",
              "      <td>0.007693</td>\n",
              "      <td>-0.004387</td>\n",
              "      <td>-0.006329</td>\n",
              "      <td>-0.009136</td>\n",
              "    </tr>\n",
              "    <tr>\n",
              "      <th>2018-12-28</th>\n",
              "      <td>-0.002427</td>\n",
              "      <td>0.018418</td>\n",
              "      <td>0.007511</td>\n",
              "      <td>0.000887</td>\n",
              "      <td>0.000747</td>\n",
              "    </tr>\n",
              "  </tbody>\n",
              "</table>\n",
              "<p>493 rows × 5 columns</p>\n",
              "</div>"
            ],
            "text/plain": [
              "Ticker      ASHOKLEY.NS  BAJFINANCE.NS  BRITANNIA.NS  KOTAKBANK.NS  MARUTI.NS\n",
              "Date                                                                         \n",
              "2017-01-02          NaN            NaN           NaN           NaN        NaN\n",
              "2017-01-03     0.000617       0.016034     -0.004920     -0.004267   0.007757\n",
              "2017-01-04     0.034547      -0.013688     -0.006911     -0.022691  -0.001134\n",
              "2017-01-05     0.001193       0.031942      0.004698      0.004816   0.024136\n",
              "2017-01-06     0.016081      -0.023673      0.010172      0.025610  -0.003443\n",
              "...                 ...            ...           ...           ...        ...\n",
              "2018-12-21    -0.007536      -0.000058     -0.016100     -0.007361  -0.034680\n",
              "2018-12-24    -0.007119      -0.010169     -0.006170      0.009208  -0.000949\n",
              "2018-12-26    -0.006692       0.000975     -0.003741      0.007792   0.005306\n",
              "2018-12-27    -0.008662       0.007693     -0.004387     -0.006329  -0.009136\n",
              "2018-12-28    -0.002427       0.018418      0.007511      0.000887   0.000747\n",
              "\n",
              "[493 rows x 5 columns]"
            ]
          },
          "execution_count": 8,
          "metadata": {},
          "output_type": "execute_result"
        }
      ],
      "source": [
        "returns=df.pct_change()\n",
        "returns"
      ]
    },
    {
      "cell_type": "code",
      "execution_count": 9,
      "metadata": {
        "colab": {
          "base_uri": "https://localhost:8080/"
        },
        "id": "kLe27rigvIqN",
        "outputId": "5396d7fc-2caf-4d15-a073-fe043012a200"
      },
      "outputs": [
        {
          "data": {
            "text/plain": [
              "Ticker\n",
              "ASHOKLEY.NS      0.000825\n",
              "BAJFINANCE.NS    0.002478\n",
              "BRITANNIA.NS     0.001657\n",
              "KOTAKBANK.NS     0.001221\n",
              "MARUTI.NS        0.000793\n",
              "dtype: float64"
            ]
          },
          "execution_count": 9,
          "metadata": {},
          "output_type": "execute_result"
        }
      ],
      "source": [
        "mean_daily_returns=returns.mean()\n",
        "mean_daily_returns"
      ]
    },
    {
      "cell_type": "code",
      "execution_count": 10,
      "metadata": {
        "colab": {
          "base_uri": "https://localhost:8080/",
          "height": 206
        },
        "id": "6KVnkCEzvIs1",
        "outputId": "3ba9b7fe-5e7b-4ca5-c70f-00ef6af5dc8f"
      },
      "outputs": [
        {
          "data": {
            "text/html": [
              "<div>\n",
              "<style scoped>\n",
              "    .dataframe tbody tr th:only-of-type {\n",
              "        vertical-align: middle;\n",
              "    }\n",
              "\n",
              "    .dataframe tbody tr th {\n",
              "        vertical-align: top;\n",
              "    }\n",
              "\n",
              "    .dataframe thead th {\n",
              "        text-align: right;\n",
              "    }\n",
              "</style>\n",
              "<table border=\"1\" class=\"dataframe\">\n",
              "  <thead>\n",
              "    <tr style=\"text-align: right;\">\n",
              "      <th>Ticker</th>\n",
              "      <th>ASHOKLEY.NS</th>\n",
              "      <th>BAJFINANCE.NS</th>\n",
              "      <th>BRITANNIA.NS</th>\n",
              "      <th>KOTAKBANK.NS</th>\n",
              "      <th>MARUTI.NS</th>\n",
              "    </tr>\n",
              "    <tr>\n",
              "      <th>Ticker</th>\n",
              "      <th></th>\n",
              "      <th></th>\n",
              "      <th></th>\n",
              "      <th></th>\n",
              "      <th></th>\n",
              "    </tr>\n",
              "  </thead>\n",
              "  <tbody>\n",
              "    <tr>\n",
              "      <th>ASHOKLEY.NS</th>\n",
              "      <td>0.000466</td>\n",
              "      <td>0.000124</td>\n",
              "      <td>0.000056</td>\n",
              "      <td>0.000047</td>\n",
              "      <td>0.000085</td>\n",
              "    </tr>\n",
              "    <tr>\n",
              "      <th>BAJFINANCE.NS</th>\n",
              "      <td>0.000124</td>\n",
              "      <td>0.000435</td>\n",
              "      <td>0.000073</td>\n",
              "      <td>0.000092</td>\n",
              "      <td>0.000099</td>\n",
              "    </tr>\n",
              "    <tr>\n",
              "      <th>BRITANNIA.NS</th>\n",
              "      <td>0.000056</td>\n",
              "      <td>0.000073</td>\n",
              "      <td>0.000167</td>\n",
              "      <td>0.000055</td>\n",
              "      <td>0.000056</td>\n",
              "    </tr>\n",
              "    <tr>\n",
              "      <th>KOTAKBANK.NS</th>\n",
              "      <td>0.000047</td>\n",
              "      <td>0.000092</td>\n",
              "      <td>0.000055</td>\n",
              "      <td>0.000194</td>\n",
              "      <td>0.000051</td>\n",
              "    </tr>\n",
              "    <tr>\n",
              "      <th>MARUTI.NS</th>\n",
              "      <td>0.000085</td>\n",
              "      <td>0.000099</td>\n",
              "      <td>0.000056</td>\n",
              "      <td>0.000051</td>\n",
              "      <td>0.000185</td>\n",
              "    </tr>\n",
              "  </tbody>\n",
              "</table>\n",
              "</div>"
            ],
            "text/plain": [
              "Ticker         ASHOKLEY.NS  BAJFINANCE.NS  BRITANNIA.NS  KOTAKBANK.NS  \\\n",
              "Ticker                                                                  \n",
              "ASHOKLEY.NS       0.000466       0.000124      0.000056      0.000047   \n",
              "BAJFINANCE.NS     0.000124       0.000435      0.000073      0.000092   \n",
              "BRITANNIA.NS      0.000056       0.000073      0.000167      0.000055   \n",
              "KOTAKBANK.NS      0.000047       0.000092      0.000055      0.000194   \n",
              "MARUTI.NS         0.000085       0.000099      0.000056      0.000051   \n",
              "\n",
              "Ticker         MARUTI.NS  \n",
              "Ticker                    \n",
              "ASHOKLEY.NS     0.000085  \n",
              "BAJFINANCE.NS   0.000099  \n",
              "BRITANNIA.NS    0.000056  \n",
              "KOTAKBANK.NS    0.000051  \n",
              "MARUTI.NS       0.000185  "
            ]
          },
          "execution_count": 10,
          "metadata": {},
          "output_type": "execute_result"
        }
      ],
      "source": [
        "cov_matrix=returns.cov()\n",
        "cov_matrix"
      ]
    },
    {
      "cell_type": "code",
      "execution_count": 11,
      "metadata": {
        "id": "wwHjuZ6ovIvx"
      },
      "outputs": [],
      "source": [
        "num_portfolios = 30000\n",
        "results = np.zeros((3+len(stocks),num_portfolios))"
      ]
    },
    {
      "cell_type": "markdown",
      "metadata": {
        "id": "sanlD8Hk5HDW"
      },
      "source": [
        "# **Optimization of the Weights**"
      ]
    },
    {
      "cell_type": "code",
      "execution_count": 12,
      "metadata": {
        "colab": {
          "base_uri": "https://localhost:8080/",
          "height": 424
        },
        "id": "_WK-jVL3vIyr",
        "outputId": "bab8595e-ac05-40dd-ddf7-e312a597aff1"
      },
      "outputs": [
        {
          "data": {
            "text/html": [
              "<div>\n",
              "<style scoped>\n",
              "    .dataframe tbody tr th:only-of-type {\n",
              "        vertical-align: middle;\n",
              "    }\n",
              "\n",
              "    .dataframe tbody tr th {\n",
              "        vertical-align: top;\n",
              "    }\n",
              "\n",
              "    .dataframe thead th {\n",
              "        text-align: right;\n",
              "    }\n",
              "</style>\n",
              "<table border=\"1\" class=\"dataframe\">\n",
              "  <thead>\n",
              "    <tr style=\"text-align: right;\">\n",
              "      <th></th>\n",
              "      <th>ret</th>\n",
              "      <th>stdev</th>\n",
              "      <th>sharpe</th>\n",
              "      <th>MARUTI.NS</th>\n",
              "      <th>ASHOKLEY.NS</th>\n",
              "      <th>BAJFINANCE.NS</th>\n",
              "      <th>BRITANNIA.NS</th>\n",
              "      <th>KOTAKBANK.NS</th>\n",
              "    </tr>\n",
              "  </thead>\n",
              "  <tbody>\n",
              "    <tr>\n",
              "      <th>0</th>\n",
              "      <td>0.334795</td>\n",
              "      <td>0.173946</td>\n",
              "      <td>1.924710</td>\n",
              "      <td>0.095718</td>\n",
              "      <td>0.186307</td>\n",
              "      <td>0.242694</td>\n",
              "      <td>0.020758</td>\n",
              "      <td>0.454522</td>\n",
              "    </tr>\n",
              "    <tr>\n",
              "      <th>1</th>\n",
              "      <td>0.354763</td>\n",
              "      <td>0.173362</td>\n",
              "      <td>2.046375</td>\n",
              "      <td>0.005357</td>\n",
              "      <td>0.160470</td>\n",
              "      <td>0.132279</td>\n",
              "      <td>0.537290</td>\n",
              "      <td>0.164604</td>\n",
              "    </tr>\n",
              "    <tr>\n",
              "      <th>2</th>\n",
              "      <td>0.336723</td>\n",
              "      <td>0.192404</td>\n",
              "      <td>1.750086</td>\n",
              "      <td>0.303884</td>\n",
              "      <td>0.238819</td>\n",
              "      <td>0.086009</td>\n",
              "      <td>0.132367</td>\n",
              "      <td>0.238921</td>\n",
              "    </tr>\n",
              "    <tr>\n",
              "      <th>3</th>\n",
              "      <td>0.333215</td>\n",
              "      <td>0.176349</td>\n",
              "      <td>1.889516</td>\n",
              "      <td>0.215288</td>\n",
              "      <td>0.202404</td>\n",
              "      <td>0.094531</td>\n",
              "      <td>0.232731</td>\n",
              "      <td>0.255045</td>\n",
              "    </tr>\n",
              "    <tr>\n",
              "      <th>4</th>\n",
              "      <td>0.415912</td>\n",
              "      <td>0.189825</td>\n",
              "      <td>2.191024</td>\n",
              "      <td>0.010808</td>\n",
              "      <td>0.372898</td>\n",
              "      <td>0.223199</td>\n",
              "      <td>0.083779</td>\n",
              "      <td>0.309317</td>\n",
              "    </tr>\n",
              "    <tr>\n",
              "      <th>...</th>\n",
              "      <td>...</td>\n",
              "      <td>...</td>\n",
              "      <td>...</td>\n",
              "      <td>...</td>\n",
              "      <td>...</td>\n",
              "      <td>...</td>\n",
              "      <td>...</td>\n",
              "      <td>...</td>\n",
              "    </tr>\n",
              "    <tr>\n",
              "      <th>29995</th>\n",
              "      <td>0.381499</td>\n",
              "      <td>0.181446</td>\n",
              "      <td>2.102545</td>\n",
              "      <td>0.272333</td>\n",
              "      <td>0.200045</td>\n",
              "      <td>0.349757</td>\n",
              "      <td>0.170151</td>\n",
              "      <td>0.007714</td>\n",
              "    </tr>\n",
              "    <tr>\n",
              "      <th>29996</th>\n",
              "      <td>0.417843</td>\n",
              "      <td>0.181113</td>\n",
              "      <td>2.307080</td>\n",
              "      <td>0.185808</td>\n",
              "      <td>0.238280</td>\n",
              "      <td>0.487464</td>\n",
              "      <td>0.085116</td>\n",
              "      <td>0.003333</td>\n",
              "    </tr>\n",
              "    <tr>\n",
              "      <th>29997</th>\n",
              "      <td>0.353690</td>\n",
              "      <td>0.168821</td>\n",
              "      <td>2.095061</td>\n",
              "      <td>0.008298</td>\n",
              "      <td>0.206220</td>\n",
              "      <td>0.137090</td>\n",
              "      <td>0.337271</td>\n",
              "      <td>0.311120</td>\n",
              "    </tr>\n",
              "    <tr>\n",
              "      <th>29998</th>\n",
              "      <td>0.348209</td>\n",
              "      <td>0.161295</td>\n",
              "      <td>2.158837</td>\n",
              "      <td>0.167566</td>\n",
              "      <td>0.055621</td>\n",
              "      <td>0.441918</td>\n",
              "      <td>0.252142</td>\n",
              "      <td>0.082752</td>\n",
              "    </tr>\n",
              "    <tr>\n",
              "      <th>29999</th>\n",
              "      <td>0.292449</td>\n",
              "      <td>0.181475</td>\n",
              "      <td>1.611510</td>\n",
              "      <td>0.353880</td>\n",
              "      <td>0.060451</td>\n",
              "      <td>0.168404</td>\n",
              "      <td>0.254190</td>\n",
              "      <td>0.163075</td>\n",
              "    </tr>\n",
              "  </tbody>\n",
              "</table>\n",
              "<p>30000 rows × 8 columns</p>\n",
              "</div>"
            ],
            "text/plain": [
              "            ret     stdev    sharpe  MARUTI.NS  ASHOKLEY.NS  BAJFINANCE.NS  \\\n",
              "0      0.334795  0.173946  1.924710   0.095718     0.186307       0.242694   \n",
              "1      0.354763  0.173362  2.046375   0.005357     0.160470       0.132279   \n",
              "2      0.336723  0.192404  1.750086   0.303884     0.238819       0.086009   \n",
              "3      0.333215  0.176349  1.889516   0.215288     0.202404       0.094531   \n",
              "4      0.415912  0.189825  2.191024   0.010808     0.372898       0.223199   \n",
              "...         ...       ...       ...        ...          ...            ...   \n",
              "29995  0.381499  0.181446  2.102545   0.272333     0.200045       0.349757   \n",
              "29996  0.417843  0.181113  2.307080   0.185808     0.238280       0.487464   \n",
              "29997  0.353690  0.168821  2.095061   0.008298     0.206220       0.137090   \n",
              "29998  0.348209  0.161295  2.158837   0.167566     0.055621       0.441918   \n",
              "29999  0.292449  0.181475  1.611510   0.353880     0.060451       0.168404   \n",
              "\n",
              "       BRITANNIA.NS  KOTAKBANK.NS  \n",
              "0          0.020758      0.454522  \n",
              "1          0.537290      0.164604  \n",
              "2          0.132367      0.238921  \n",
              "3          0.232731      0.255045  \n",
              "4          0.083779      0.309317  \n",
              "...             ...           ...  \n",
              "29995      0.170151      0.007714  \n",
              "29996      0.085116      0.003333  \n",
              "29997      0.337271      0.311120  \n",
              "29998      0.252142      0.082752  \n",
              "29999      0.254190      0.163075  \n",
              "\n",
              "[30000 rows x 8 columns]"
            ]
          },
          "execution_count": 12,
          "metadata": {},
          "output_type": "execute_result"
        }
      ],
      "source": [
        "for i in range(num_portfolios):\n",
        "\n",
        "    weights = np.array(np.random.random(5))\n",
        "\n",
        "    weights /= np.sum(weights)\n",
        "\n",
        "    #calculate portfolio return and volatility\n",
        "    portfolio_return = np.sum(mean_daily_returns * weights) * 252\n",
        "    portfolio_std_dev = np.sqrt(np.dot(weights.T,np.dot(cov_matrix, weights))) * np.sqrt(252)\n",
        "\n",
        "    #store results in results array\n",
        "    results[0,i] = portfolio_return\n",
        "    results[1,i] = portfolio_std_dev\n",
        "    #store Sharpe Ratio (return / volatility) - risk free rate element excluded for simplicity\n",
        "    results[2,i] = results[0,i] / results[1,i]\n",
        "    #iterate through the weight vector and add data to results array\n",
        "    for j in range(len(weights)):\n",
        "        results[j+3,i] = weights[j]\n",
        "#convert results array to Pandas DataFrame\n",
        "results_frame = pd.DataFrame(results.T,columns=['ret','stdev','sharpe',stocks[0],stocks[1],stocks[2],stocks[3],stocks[4]])\n",
        "results_frame"
      ]
    },
    {
      "cell_type": "code",
      "execution_count": 14,
      "metadata": {
        "colab": {
          "base_uri": "https://localhost:8080/"
        },
        "id": "d1QIoFNpvI1a",
        "outputId": "ab72fe6a-8285-48a6-ce96-02f762153e51"
      },
      "outputs": [
        {
          "data": {
            "text/plain": [
              "ret              0.446730\n",
              "stdev            0.179301\n",
              "sharpe           2.491512\n",
              "MARUTI.NS        0.009012\n",
              "ASHOKLEY.NS      0.286328\n",
              "BAJFINANCE.NS    0.465842\n",
              "BRITANNIA.NS     0.220724\n",
              "KOTAKBANK.NS     0.018095\n",
              "Name: 18036, dtype: float64"
            ]
          },
          "execution_count": 14,
          "metadata": {},
          "output_type": "execute_result"
        }
      ],
      "source": [
        "max_sharpe_point = results_frame.iloc[results_frame['sharpe'].idxmax()]\n",
        "max_sharpe_point"
      ]
    },
    {
      "cell_type": "code",
      "execution_count": 15,
      "metadata": {
        "colab": {
          "base_uri": "https://localhost:8080/"
        },
        "id": "cSDWlCLQvI4K",
        "outputId": "016044c3-1d43-4445-b47d-a9b5730d93a1"
      },
      "outputs": [
        {
          "data": {
            "text/plain": [
              "ret              0.317171\n",
              "stdev            0.153875\n",
              "sharpe           2.061221\n",
              "MARUTI.NS        0.068705\n",
              "ASHOKLEY.NS      0.024588\n",
              "BAJFINANCE.NS    0.350151\n",
              "BRITANNIA.NS     0.279308\n",
              "KOTAKBANK.NS     0.277247\n",
              "Name: 63, dtype: float64"
            ]
          },
          "execution_count": 15,
          "metadata": {},
          "output_type": "execute_result"
        }
      ],
      "source": [
        "min_vol_point = results_frame.iloc[results_frame['stdev'].idxmin()]\n",
        "min_vol_point"
      ]
    },
    {
      "cell_type": "code",
      "execution_count": 22,
      "metadata": {
        "colab": {
          "base_uri": "https://localhost:8080/",
          "height": 298
        },
        "id": "V9sc0s9vvI7z",
        "outputId": "f9761c80-1080-4004-bca4-30ee798dfe7c"
      },
      "outputs": [
        {
          "name": "stderr",
          "output_type": "stream",
          "text": [
            "C:\\Users\\dhruv\\AppData\\Local\\Temp\\ipykernel_6344\\1316521357.py:7: FutureWarning: Series.__getitem__ treating keys as positions is deprecated. In a future version, integer keys will always be treated as labels (consistent with DataFrame behavior). To access a value by position, use `ser.iloc[pos]`\n",
            "  plt.scatter(max_sharpe_point[1],max_sharpe_point[0],marker=(5,1,0),color='r',s=1000)\n",
            "C:\\Users\\dhruv\\AppData\\Local\\Temp\\ipykernel_6344\\1316521357.py:9: FutureWarning: Series.__getitem__ treating keys as positions is deprecated. In a future version, integer keys will always be treated as labels (consistent with DataFrame behavior). To access a value by position, use `ser.iloc[pos]`\n",
            "  plt.scatter(min_vol_point[1],min_vol_point[0],marker=(5,1,0),color='g',s=1000)\n"
          ]
        },
        {
          "data": {
            "text/plain": [
              "<matplotlib.collections.PathCollection at 0x2aa589ee050>"
            ]
          },
          "execution_count": 22,
          "metadata": {},
          "output_type": "execute_result"
        },
        {
          "data": {
            "image/png": "[encoded data removed]",
            "text/plain": [
              "<Figure size 640x480 with 2 Axes>"
            ]
          },
          "metadata": {},
          "output_type": "display_data"
        }
      ],
      "source": [
        "#create scatter plot coloured by Sharpe Ratio\n",
        "plt.scatter(results_frame.stdev,results_frame.ret,c=results_frame.sharpe,cmap='RdYlBu')\n",
        "plt.xlabel('Volatility')\n",
        "plt.ylabel('Returns')\n",
        "plt.colorbar()\n",
        "#plot red star to highlight position of portfolio with highest Sharpe Ratio\n",
        "plt.scatter(max_sharpe_point[1],max_sharpe_point[0],marker=(5,1,0),color='r',s=1000)\n",
        "#plot green star to highlight position of minimum variance portfolio\n",
        "plt.scatter(min_vol_point[1],min_vol_point[0],marker=(5,1,0),color='g',s=1000)"
      ]
    },
    {
      "cell_type": "markdown",
      "metadata": {
        "id": "GxicfNLWv-gL"
      },
      "source": [
        "# **Testing the Weights for the Following Year**"
      ]
    },
    {
      "cell_type": "code",
      "execution_count": 17,
      "metadata": {
        "colab": {
          "base_uri": "https://localhost:8080/",
          "height": 455
        },
        "id": "31qXzwpyv_cy",
        "outputId": "69106068-e777-463a-dea5-1a9349142ae4"
      },
      "outputs": [
        {
          "data": {
            "text/html": [
              "<div>\n",
              "<style scoped>\n",
              "    .dataframe tbody tr th:only-of-type {\n",
              "        vertical-align: middle;\n",
              "    }\n",
              "\n",
              "    .dataframe tbody tr th {\n",
              "        vertical-align: top;\n",
              "    }\n",
              "\n",
              "    .dataframe thead th {\n",
              "        text-align: right;\n",
              "    }\n",
              "</style>\n",
              "<table border=\"1\" class=\"dataframe\">\n",
              "  <thead>\n",
              "    <tr style=\"text-align: right;\">\n",
              "      <th>Ticker</th>\n",
              "      <th>ASHOKLEY.NS</th>\n",
              "      <th>BAJFINANCE.NS</th>\n",
              "      <th>BRITANNIA.NS</th>\n",
              "      <th>KOTAKBANK.NS</th>\n",
              "      <th>MARUTI.NS</th>\n",
              "    </tr>\n",
              "    <tr>\n",
              "      <th>Date</th>\n",
              "      <th></th>\n",
              "      <th></th>\n",
              "      <th></th>\n",
              "      <th></th>\n",
              "      <th></th>\n",
              "    </tr>\n",
              "  </thead>\n",
              "  <tbody>\n",
              "    <tr>\n",
              "      <th>2019-01-01</th>\n",
              "      <td>87.169891</td>\n",
              "      <td>2608.035645</td>\n",
              "      <td>2785.130615</td>\n",
              "      <td>1247.377319</td>\n",
              "      <td>7147.148926</td>\n",
              "    </tr>\n",
              "    <tr>\n",
              "      <th>2019-01-02</th>\n",
              "      <td>85.001266</td>\n",
              "      <td>2566.021973</td>\n",
              "      <td>2797.517090</td>\n",
              "      <td>1237.551514</td>\n",
              "      <td>6947.412109</td>\n",
              "    </tr>\n",
              "    <tr>\n",
              "      <th>2019-01-03</th>\n",
              "      <td>83.470490</td>\n",
              "      <td>2538.683838</td>\n",
              "      <td>2814.614990</td>\n",
              "      <td>1232.214722</td>\n",
              "      <td>6886.330078</td>\n",
              "    </tr>\n",
              "    <tr>\n",
              "      <th>2019-01-04</th>\n",
              "      <td>82.322395</td>\n",
              "      <td>2528.719727</td>\n",
              "      <td>2802.767090</td>\n",
              "      <td>1244.883545</td>\n",
              "      <td>6915.532715</td>\n",
              "    </tr>\n",
              "    <tr>\n",
              "      <th>2019-01-07</th>\n",
              "      <td>79.473442</td>\n",
              "      <td>2506.682861</td>\n",
              "      <td>2821.706055</td>\n",
              "      <td>1243.536743</td>\n",
              "      <td>7037.458008</td>\n",
              "    </tr>\n",
              "    <tr>\n",
              "      <th>...</th>\n",
              "      <td>...</td>\n",
              "      <td>...</td>\n",
              "      <td>...</td>\n",
              "      <td>...</td>\n",
              "      <td>...</td>\n",
              "    </tr>\n",
              "    <tr>\n",
              "      <th>2020-12-23</th>\n",
              "      <td>88.575172</td>\n",
              "      <td>5015.659180</td>\n",
              "      <td>3381.039062</td>\n",
              "      <td>1917.063110</td>\n",
              "      <td>7285.768555</td>\n",
              "    </tr>\n",
              "    <tr>\n",
              "      <th>2020-12-24</th>\n",
              "      <td>88.621696</td>\n",
              "      <td>5110.277832</td>\n",
              "      <td>3374.417236</td>\n",
              "      <td>1956.836670</td>\n",
              "      <td>7281.953613</td>\n",
              "    </tr>\n",
              "    <tr>\n",
              "      <th>2020-12-28</th>\n",
              "      <td>88.668213</td>\n",
              "      <td>5129.201660</td>\n",
              "      <td>3360.707764</td>\n",
              "      <td>1985.082275</td>\n",
              "      <td>7318.089844</td>\n",
              "    </tr>\n",
              "    <tr>\n",
              "      <th>2020-12-29</th>\n",
              "      <td>88.389084</td>\n",
              "      <td>5125.653320</td>\n",
              "      <td>3351.148682</td>\n",
              "      <td>1995.462402</td>\n",
              "      <td>7288.115234</td>\n",
              "    </tr>\n",
              "    <tr>\n",
              "      <th>2020-12-30</th>\n",
              "      <td>88.203003</td>\n",
              "      <td>5257.378906</td>\n",
              "      <td>3342.382324</td>\n",
              "      <td>2014.076416</td>\n",
              "      <td>7445.126953</td>\n",
              "    </tr>\n",
              "  </tbody>\n",
              "</table>\n",
              "<p>493 rows × 5 columns</p>\n",
              "</div>"
            ],
            "text/plain": [
              "Ticker      ASHOKLEY.NS  BAJFINANCE.NS  BRITANNIA.NS  KOTAKBANK.NS  \\\n",
              "Date                                                                 \n",
              "2019-01-01    87.169891    2608.035645   2785.130615   1247.377319   \n",
              "2019-01-02    85.001266    2566.021973   2797.517090   1237.551514   \n",
              "2019-01-03    83.470490    2538.683838   2814.614990   1232.214722   \n",
              "2019-01-04    82.322395    2528.719727   2802.767090   1244.883545   \n",
              "2019-01-07    79.473442    2506.682861   2821.706055   1243.536743   \n",
              "...                 ...            ...           ...           ...   \n",
              "2020-12-23    88.575172    5015.659180   3381.039062   1917.063110   \n",
              "2020-12-24    88.621696    5110.277832   3374.417236   1956.836670   \n",
              "2020-12-28    88.668213    5129.201660   3360.707764   1985.082275   \n",
              "2020-12-29    88.389084    5125.653320   3351.148682   1995.462402   \n",
              "2020-12-30    88.203003    5257.378906   3342.382324   2014.076416   \n",
              "\n",
              "Ticker        MARUTI.NS  \n",
              "Date                     \n",
              "2019-01-01  7147.148926  \n",
              "2019-01-02  6947.412109  \n",
              "2019-01-03  6886.330078  \n",
              "2019-01-04  6915.532715  \n",
              "2019-01-07  7037.458008  \n",
              "...                 ...  \n",
              "2020-12-23  7285.768555  \n",
              "2020-12-24  7281.953613  \n",
              "2020-12-28  7318.089844  \n",
              "2020-12-29  7288.115234  \n",
              "2020-12-30  7445.126953  \n",
              "\n",
              "[493 rows x 5 columns]"
            ]
          },
          "execution_count": 17,
          "metadata": {},
          "output_type": "execute_result"
        }
      ],
      "source": [
        "test_df=yf.download(stocks,start='2019-01-01',end='2020-12-31',progress=False)['Adj Close']\n",
        "test_df.sort_index(inplace=True)\n",
        "test_df"
      ]
    },
    {
      "cell_type": "code",
      "execution_count": 18,
      "metadata": {
        "colab": {
          "base_uri": "https://localhost:8080/"
        },
        "id": "9unw-7qwwALB",
        "outputId": "9fa256fd-69c4-4ed1-dab6-20f4540b57f0"
      },
      "outputs": [
        {
          "name": "stderr",
          "output_type": "stream",
          "text": [
            "C:\\Users\\dhruv\\AppData\\Local\\Temp\\ipykernel_6344\\1926793650.py:4: FutureWarning: Series.__getitem__ treating keys as positions is deprecated. In a future version, integer keys will always be treated as labels (consistent with DataFrame behavior). To access a value by position, use `ser.iloc[pos]`\n",
            "  test_weights=[max_sharpe_point[3],max_sharpe_point[4],max_sharpe_point[5],max_sharpe_point[6],max_sharpe_point[7]]\n"
          ]
        },
        {
          "data": {
            "text/plain": [
              "array([0.00901172, 0.28632785, 0.46584187, 0.22072366, 0.0180949 ])"
            ]
          },
          "execution_count": 18,
          "metadata": {},
          "output_type": "execute_result"
        }
      ],
      "source": [
        "test_returns=test_df.pct_change()\n",
        "test_mean_daily_returns=test_returns.mean()\n",
        "test_cov_matrix=test_returns.cov()\n",
        "test_weights=[max_sharpe_point[3],max_sharpe_point[4],max_sharpe_point[5],max_sharpe_point[6],max_sharpe_point[7]]\n",
        "test_weights=np.array(test_weights)\n",
        "test_weights"
      ]
    },
    {
      "cell_type": "code",
      "execution_count": 19,
      "metadata": {
        "colab": {
          "base_uri": "https://localhost:8080/"
        },
        "id": "hbkcpIWewIc0",
        "outputId": "402da720-ff86-49dc-aa45-6916b4999c3b"
      },
      "outputs": [
        {
          "name": "stdout",
          "output_type": "stream",
          "text": [
            "test return is 0.44672997288563027\n",
            "test std dev is 0.30712584649317615\n"
          ]
        }
      ],
      "source": [
        "test_portfolio_return = np.sum(mean_daily_returns * test_weights) * 252\n",
        "test_portfolio_std_dev = np.sqrt(np.dot(test_weights.T,np.dot(test_cov_matrix, test_weights))) * np.sqrt(252)\n",
        "print('test return is '+str(test_portfolio_return))\n",
        "print('test std dev is '+str(test_portfolio_std_dev))"
      ]
    },
    {
      "cell_type": "code",
      "execution_count": 21,
      "metadata": {
        "colab": {
          "base_uri": "https://localhost:8080/"
        },
        "id": "Jw5Cds_zwInX",
        "outputId": "19f92f9e-f053-4d37-a5c6-3c9fd6208b6b"
      },
      "outputs": [
        {
          "name": "stdout",
          "output_type": "stream",
          "text": [
            "test sharpe ratio is 1.454550237260985\n"
          ]
        }
      ],
      "source": [
        "test_sharpe_ratio=test_portfolio_return/test_portfolio_std_dev\n",
        "print('test sharpe ratio is '+str(test_sharpe_ratio))"
      ]
    },
    {
      "cell_type": "markdown",
      "metadata": {
        "id": "cEMPfp105f3t"
      },
      "source": [
        "So on testing the portfolio weights on the following year, we see a good sharpe ratio of **1.4732**."
      ]
    },
    {
      "cell_type": "markdown",
      "metadata": {
        "id": "dXe9WaOi5gMb"
      },
      "source": [
        "# **Impact of Increasing the number of Stocks**"
      ]
    },
    {
      "cell_type": "markdown",
      "metadata": {
        "id": "dih12UQ25gP0"
      },
      "source": [
        "As the number of securities added to a portfolio increases, the standard deviation of the portfolio becomes smaller and smaller. Hence an investor can make the portfolio risk arbitrarily small by including a large number of securities with negative or zero correlation in the portfolio."
      ]
    },
    {
      "cell_type": "markdown",
      "metadata": {
        "id": "84hmVuE75gSy"
      },
      "source": [
        "# **Why are calculating the weights by optimization and not giving equal weightage to every stock?**"
      ]
    },
    {
      "cell_type": "markdown",
      "metadata": {
        "id": "K0NO-qAN5gWU"
      },
      "source": [
        "So suppose if all the stocks are given equal weightage , then the overall portfolio will be dependent equally on each individual stock. So the risk of all the individual stocks have the same impact on the portfolio. whereas by calculating the weights by optimization results in assigning weights in such a way that the portfolio return increases and the standard deviation decreases."
      ]
    },
    {
      "cell_type": "markdown",
      "metadata": {
        "id": "JuzlDJ6S5gZc"
      },
      "source": [
        "# **Optimization techniques used by Mutual Funds currently**"
      ]
    },
    {
      "cell_type": "markdown",
      "metadata": {
        "id": "9AAifFZW5gc7"
      },
      "source": [
        "An optimization technique used by the mutual funds is mean-variance optimization."
      ]
    },
    {
      "cell_type": "markdown",
      "metadata": {
        "id": "T6e8Xw158R5K"
      },
      "source": [
        "# **Parameters used for checking the accuracy**"
      ]
    },
    {
      "cell_type": "markdown",
      "metadata": {
        "id": "DGsrUZiI8SkF"
      },
      "source": [
        "I used return percentage and the standard devaiation(volatality) for checking the accuracy. I also used the sharpe ratio."
      ]
    }
  ],
  "metadata": {
    "colab": {
      "include_colab_link": true,
      "provenance": []
    },
    "kernelspec": {
      "display_name": "Python 3",
      "name": "python3"
    },
    "language_info": {
      "codemirror_mode": {
        "name": "ipython",
        "version": 3
      },
      "file_extension": ".py",
      "mimetype": "text/x-python",
      "name": "python",
      "nbconvert_exporter": "python",
      "pygments_lexer": "ipython3",
      "version": "3.11.4"
    }
  },
  "nbformat": 4,
  "nbformat_minor": 0
}
